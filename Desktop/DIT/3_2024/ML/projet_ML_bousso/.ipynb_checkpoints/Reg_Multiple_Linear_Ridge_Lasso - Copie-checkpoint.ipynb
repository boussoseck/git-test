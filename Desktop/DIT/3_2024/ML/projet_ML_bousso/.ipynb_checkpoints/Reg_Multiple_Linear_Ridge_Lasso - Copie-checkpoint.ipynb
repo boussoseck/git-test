{
 "cells": [
  {
   "cell_type": "code",
   "execution_count": 1,
   "metadata": {
    "id": "tleh3FAW8S9E"
   },
   "outputs": [],
   "source": [
    "# Importer les packages\n",
    "import pandas as pd\n",
    "import numpy as np\n",
    "import matplotlib.pyplot as plt\n",
    "import seaborn as sns\n",
    "import plotly.express as px"
   ]
  },
  {
   "cell_type": "code",
   "execution_count": 2,
   "metadata": {},
   "outputs": [],
   "source": [
    "# Supprimer les warning\n",
    "import warnings\n",
    "warnings.filterwarnings(\"ignore\")"
   ]
  },
  {
   "cell_type": "markdown",
   "metadata": {
    "id": "GUQw_Fn-3u4r"
   },
   "source": [
    "### <font color = \"bisque\">Importer et lire les données<font>"
   ]
  },
  {
   "cell_type": "code",
   "execution_count": 3,
   "metadata": {
    "id": "pge68xE-9zUf"
   },
   "outputs": [],
   "source": [
    "# Import les données\n"
   ]
  },
  {
   "cell_type": "code",
   "execution_count": 1,
   "metadata": {
    "colab": {
     "base_uri": "https://localhost:8080/",
     "height": 380
    },
    "id": "Uv5ilh6e-JQo",
    "outputId": "2891607e-0e1c-442e-f982-3e517dc609de"
   },
   "outputs": [],
   "source": [
    "# Afficher des données\n"
   ]
  },
  {
   "cell_type": "code",
   "execution_count": 2,
   "metadata": {},
   "outputs": [],
   "source": [
    "# Dimension des données \n"
   ]
  },
  {
   "cell_type": "code",
   "execution_count": 3,
   "metadata": {
    "colab": {
     "base_uri": "https://localhost:8080/"
    },
    "id": "4OqMx6s2VUjC",
    "outputId": "c11add1a-b3ff-4ffd-a7c6-30c3c809edcd"
   },
   "outputs": [],
   "source": [
    "# infos des données\n"
   ]
  },
  {
   "cell_type": "markdown",
   "metadata": {
    "id": "5iKLJjVGcIVs"
   },
   "source": [
    "### <font color = 'bisque'>Exploraton et préparation des données"
   ]
  },
  {
   "cell_type": "markdown",
   "metadata": {},
   "source": [
    "###### <font color = 'tomato'> Selection des variables catégorielles et quantitatives"
   ]
  },
  {
   "cell_type": "code",
   "execution_count": 4,
   "metadata": {
    "colab": {
     "base_uri": "https://localhost:8080/"
    },
    "id": "cPLVRgg9g8-q",
    "outputId": "6ac37be7-7850-40bc-9a27-8968315e7f70"
   },
   "outputs": [],
   "source": [
    "# selection les variables catégorielles\n"
   ]
  },
  {
   "cell_type": "code",
   "execution_count": 5,
   "metadata": {},
   "outputs": [],
   "source": [
    "# selection des variables quantitatives \n"
   ]
  },
  {
   "cell_type": "markdown",
   "metadata": {},
   "source": [
    "###### <font color = 'tomato'> Exploration des variables catégorielles "
   ]
  },
  {
   "cell_type": "code",
   "execution_count": 6,
   "metadata": {},
   "outputs": [],
   "source": [
    "# décrire les variables catégorielles \n"
   ]
  },
  {
   "cell_type": "code",
   "execution_count": 7,
   "metadata": {},
   "outputs": [],
   "source": [
    "# Diagrammes en barre des variables catégorielles \n"
   ]
  },
  {
   "cell_type": "markdown",
   "metadata": {},
   "source": [
    "###### <font color = 'tomato'> Exploration des variables quantitatives"
   ]
  },
  {
   "cell_type": "code",
   "execution_count": 8,
   "metadata": {},
   "outputs": [],
   "source": [
    "# décrire les variables quantitatives \n"
   ]
  },
  {
   "cell_type": "code",
   "execution_count": 9,
   "metadata": {},
   "outputs": [],
   "source": [
    "# pairplot des variables quantitatives \n"
   ]
  },
  {
   "cell_type": "code",
   "execution_count": 10,
   "metadata": {},
   "outputs": [],
   "source": [
    "# heatmap de la matrice de corrélation\n"
   ]
  },
  {
   "cell_type": "code",
   "execution_count": 11,
   "metadata": {},
   "outputs": [],
   "source": [
    "# boxplots des variables quantitatives\n"
   ]
  },
  {
   "cell_type": "markdown",
   "metadata": {},
   "source": [
    "###### <font color = 'tomato'> Preparation des données "
   ]
  },
  {
   "cell_type": "code",
   "execution_count": 12,
   "metadata": {},
   "outputs": [],
   "source": [
    "# Gérer les doublons\n"
   ]
  },
  {
   "cell_type": "code",
   "execution_count": 16,
   "metadata": {},
   "outputs": [],
   "source": [
    "# Gérer les valeurs abérrantes des variables quantitatives\n",
    "k = 3 # Dans la littérature k = 1.5 est plus utilisé \n",
    "for col in quant_data.columns:\n",
    "  Q1 = df[col].quantile(0.25) # premier quartile\n",
    "  Q3 = df[col].quantile(0.75) # troisième quartile\n",
    "  IQR = Q3 - Q1 # l'écart interquartile\n",
    "  min_value  = Q1 -  k * IQR # valeur minimale\n",
    "  max_value = Q3 +  k * IQR # valeur maximale\n",
    "  df = df[(df[col] >= min_value) & (df[col] <= max_value)] # slicing\n",
    "  df = df.reset_index(drop = True) # reset des index"
   ]
  },
  {
   "cell_type": "code",
   "execution_count": 13,
   "metadata": {},
   "outputs": [],
   "source": [
    "# Encoder les variables catégorielles\n"
   ]
  },
  {
   "cell_type": "code",
   "execution_count": 14,
   "metadata": {
    "id": "NIFw4RAy1Kf8"
   },
   "outputs": [],
   "source": [
    "# Fractionner les données en variables prédicteurs (x) et variable cibel(y)\n"
   ]
  },
  {
   "cell_type": "code",
   "execution_count": 16,
   "metadata": {
    "id": "9I_788tZGXJN"
   },
   "outputs": [],
   "source": [
    "# normaliser les données \n"
   ]
  },
  {
   "cell_type": "code",
   "execution_count": 17,
   "metadata": {
    "id": "YMy5YPaIDmt_"
   },
   "outputs": [],
   "source": [
    "# splitter les données en train, val et test\n"
   ]
  },
  {
   "cell_type": "markdown",
   "metadata": {
    "id": "x_QxnqPSG2wO"
   },
   "source": [
    "### <font color = 'bisque'>Multiple Linear Regression<font>"
   ]
  },
  {
   "cell_type": "markdown",
   "metadata": {},
   "source": [
    "###### <font color = 'tomato'> Recherche des paramètres optimaux"
   ]
  },
  {
   "cell_type": "code",
   "execution_count": null,
   "metadata": {},
   "outputs": [],
   "source": [
    "# Rechercher les paramètres optimaux de l'algorithme\n",
    "from sklearn.model_selection import GridSearchCV\n",
    "# Importer Linear Regression\n",
    "from sklearn.linear_model import LinearRegression\n",
    "# dictionnaire params\n",
    "params = {'fit_intercept': [True,False], \n",
    "               'positive': [True,False]}\n",
    "# Initialisation du modèle\n",
    "lr = LinearRegression()\n",
    "# Initialisation du GridSearchCV\n",
    "grid = GridSearchCV(lr, params, cv = 5)\n",
    "# Lancer la recherche\n",
    "grid.fit(x_train, y_train)"
   ]
  },
  {
   "cell_type": "code",
   "execution_count": null,
   "metadata": {},
   "outputs": [],
   "source": [
    "# best params\n"
   ]
  },
  {
   "cell_type": "markdown",
   "metadata": {},
   "source": [
    "###### <font color = 'tomato'> Entrainement du modèle"
   ]
  },
  {
   "cell_type": "code",
   "execution_count": 18,
   "metadata": {
    "colab": {
     "base_uri": "https://localhost:8080/",
     "height": 74
    },
    "id": "xbk73SnzG13P",
    "outputId": "d0425b6d-7608-4c65-c3c5-3ef7d731a498"
   },
   "outputs": [],
   "source": [
    "# Importer Linear Regression\n"
   ]
  },
  {
   "cell_type": "code",
   "execution_count": 19,
   "metadata": {
    "colab": {
     "base_uri": "https://localhost:8080/",
     "height": 329
    },
    "id": "2OdCeZUo7Hci",
    "outputId": "34ca5d0a-7d3b-4d5b-8528-96c4e854f601"
   },
   "outputs": [],
   "source": [
    "# Afficher les coefs des variables\n"
   ]
  },
  {
   "cell_type": "markdown",
   "metadata": {
    "id": "JZY6a2F96RLc"
   },
   "source": [
    "###### <font color = 'tomato'> Evaluation du modèle"
   ]
  },
  {
   "cell_type": "code",
   "execution_count": null,
   "metadata": {
    "colab": {
     "base_uri": "https://localhost:8080/"
    },
    "id": "ZygFIxQ9GEIM",
    "outputId": "719ac80f-f522-4de2-8f05-16607574cb23"
   },
   "outputs": [],
   "source": []
  },
  {
   "cell_type": "code",
   "execution_count": 20,
   "metadata": {
    "colab": {
     "base_uri": "https://localhost:8080/"
    },
    "id": "xQCUjrArO5Bt",
    "outputId": "da140494-4a7a-4246-8a9b-56d268f95f82"
   },
   "outputs": [],
   "source": [
    "# Calculer le R2 score sur les données d'entrainement\n"
   ]
  },
  {
   "cell_type": "markdown",
   "metadata": {
    "id": "iPUo0NnygzWk"
   },
   "source": [
    "### <font color = 'bisque'>Ridge Regression"
   ]
  },
  {
   "cell_type": "markdown",
   "metadata": {},
   "source": [
    "###### <font color = 'tomato'> Recherche des paramètre optimaux"
   ]
  },
  {
   "cell_type": "code",
   "execution_count": 21,
   "metadata": {
    "colab": {
     "base_uri": "https://localhost:8080/",
     "height": 116
    },
    "id": "et6KDPPJg3-T",
    "outputId": "dcdd42a2-8641-4c68-dbec-e911e538a142"
   },
   "outputs": [],
   "source": [
    "# Rechercher les paramètres optimaux de l'algorithme\n",
    "from sklearn.model_selection import GridSearchCV\n",
    "from sklearn.linear_model import Ridge\n",
    "# dictionnaire params\n",
    "params = {\n",
    "    'alpha':np.logspace(-8,8, 100)\n",
    "}\n",
    "# Initialisation du modèle\n",
    "rr = Ridge()\n",
    "# Initialisation du GridSearchCV\n",
    "grid_ = GridSearchCV(rr, params, cv = 5)\n",
    "# Lancer la recherche\n",
    "grid_.fit(x_train, y_train)"
   ]
  },
  {
   "cell_type": "code",
   "execution_count": 22,
   "metadata": {
    "colab": {
     "base_uri": "https://localhost:8080/"
    },
    "id": "O7Ikoyl2ipw1",
    "outputId": "4dbd009d-0e93-4d35-d79f-7402f43a8efd"
   },
   "outputs": [],
   "source": [
    "# Afficher le best paramètre\n"
   ]
  },
  {
   "cell_type": "markdown",
   "metadata": {},
   "source": [
    "###### <font color = 'tomato'> Entrainement du modèle"
   ]
  },
  {
   "cell_type": "code",
   "execution_count": null,
   "metadata": {
    "colab": {
     "base_uri": "https://localhost:8080/",
     "height": 74
    },
    "id": "zBFiXUBnix68",
    "outputId": "776a964b-9462-402a-d51e-6befa4aa9e49"
   },
   "outputs": [],
   "source": [
    "\n"
   ]
  },
  {
   "cell_type": "code",
   "execution_count": 23,
   "metadata": {
    "colab": {
     "base_uri": "https://localhost:8080/",
     "height": 329
    },
    "id": "e1WM--HH7j4C",
    "outputId": "3fe419b4-719b-4645-b143-7ea92439f885"
   },
   "outputs": [],
   "source": [
    "# Afficher les coefs des variables\n"
   ]
  },
  {
   "cell_type": "markdown",
   "metadata": {
    "id": "OxHnv7ybTDoX"
   },
   "source": [
    "###### <font color = 'tomato'> Evaluation du modèle"
   ]
  },
  {
   "cell_type": "code",
   "execution_count": 24,
   "metadata": {
    "colab": {
     "base_uri": "https://localhost:8080/"
    },
    "id": "5eqSjwXskl_s",
    "outputId": "86986854-4947-4c5d-820c-53435701775a"
   },
   "outputs": [],
   "source": [
    "# Calculer le R2 score et Mean Squarred Error\n"
   ]
  },
  {
   "cell_type": "code",
   "execution_count": 25,
   "metadata": {
    "colab": {
     "base_uri": "https://localhost:8080/"
    },
    "id": "EaA0OUoBlHxL",
    "outputId": "23b6dc1c-789e-47ad-b978-2ce73626408a"
   },
   "outputs": [],
   "source": [
    "# Calculer le R2 score sur les données d'entrainement\n"
   ]
  },
  {
   "cell_type": "markdown",
   "metadata": {
    "id": "Y6XmAADHmMzn"
   },
   "source": [
    "### <font color = 'bisque'>Lasso Regression<font>"
   ]
  },
  {
   "cell_type": "markdown",
   "metadata": {},
   "source": [
    "###### <font color = 'tomato'> Recherche des paramètre optimaux"
   ]
  },
  {
   "cell_type": "code",
   "execution_count": 26,
   "metadata": {
    "colab": {
     "base_uri": "https://localhost:8080/",
     "height": 116
    },
    "id": "vfYlX4yVmP_-",
    "outputId": "deea843f-568e-419e-ca72-4fa3d652c687"
   },
   "outputs": [],
   "source": [
    "# Rechercher les paramètres optimaux de l'algorithme\n",
    "from sklearn.linear_model import Lasso\n",
    "# dictionnaire params\n",
    "params = {\n",
    "    'alpha':np.logspace(-8,8, 100)\n",
    "}\n",
    "# Initialisation du modèle\n",
    "lr = Lasso()\n",
    "# Initialisation du GridSearchCV\n",
    "grid__ = GridSearchCV(lr, params, cv = 5)\n",
    "# Lancer la recherche\n",
    "grid__.fit(x_train, y_train)"
   ]
  },
  {
   "cell_type": "code",
   "execution_count": 27,
   "metadata": {
    "colab": {
     "base_uri": "https://localhost:8080/"
    },
    "id": "PewfzW3Emnjm",
    "outputId": "593d8b25-c9b9-4168-89bc-12b93b3b5c93"
   },
   "outputs": [],
   "source": [
    "# Afficher l'alpha optimal\n"
   ]
  },
  {
   "cell_type": "markdown",
   "metadata": {},
   "source": [
    "###### <font color = 'tomato'> Entrainement du modèle"
   ]
  },
  {
   "cell_type": "code",
   "execution_count": null,
   "metadata": {
    "colab": {
     "base_uri": "https://localhost:8080/",
     "height": 74
    },
    "id": "CHz5dARwmt5H",
    "outputId": "3bb96edd-d291-4d4e-b51f-2e130f8bf6f4"
   },
   "outputs": [],
   "source": []
  },
  {
   "cell_type": "code",
   "execution_count": 28,
   "metadata": {
    "colab": {
     "base_uri": "https://localhost:8080/",
     "height": 329
    },
    "id": "4tEx5Ta27orJ",
    "outputId": "2eb86579-e0a7-41b2-f7f0-b0837ffc385f"
   },
   "outputs": [],
   "source": [
    "# Afficher les coefs des variables\n"
   ]
  },
  {
   "cell_type": "markdown",
   "metadata": {
    "id": "a6AOh9GvXXQl"
   },
   "source": [
    "###### <font color = 'tomato'> Evaluation du modèle"
   ]
  },
  {
   "cell_type": "code",
   "execution_count": 29,
   "metadata": {
    "colab": {
     "base_uri": "https://localhost:8080/"
    },
    "id": "HpzSkjW5qOcn",
    "outputId": "8431af96-0b30-426c-b651-5275c48941dc"
   },
   "outputs": [],
   "source": [
    "# Calculer le R2 score et Mean Squarred Error\n"
   ]
  },
  {
   "cell_type": "code",
   "execution_count": 30,
   "metadata": {
    "colab": {
     "base_uri": "https://localhost:8080/"
    },
    "id": "cducnsAOXcUw",
    "outputId": "f61725c8-96af-4d13-a024-372b2a09019c"
   },
   "outputs": [],
   "source": [
    "# Calculer le R2 score sur les données train\n"
   ]
  },
  {
   "cell_type": "markdown",
   "metadata": {
    "id": "JZFE-77CYAFY"
   },
   "source": [
    "### <font color = 'bisque'>Tester le modèle le plus performant<font>"
   ]
  },
  {
   "cell_type": "code",
   "execution_count": 31,
   "metadata": {
    "colab": {
     "base_uri": "https://localhost:8080/"
    },
    "id": "GnUyzySxX2Sd",
    "outputId": "6305b99f-f3ab-494a-91a2-e96069702c5b"
   },
   "outputs": [],
   "source": [
    "# \n"
   ]
  },
  {
   "cell_type": "code",
   "execution_count": null,
   "metadata": {},
   "outputs": [],
   "source": []
  }
 ],
 "metadata": {
  "colab": {
   "provenance": []
  },
  "kernelspec": {
   "display_name": "Python 3 (ipykernel)",
   "language": "python",
   "name": "python3"
  },
  "language_info": {
   "codemirror_mode": {
    "name": "ipython",
    "version": 3
   },
   "file_extension": ".py",
   "mimetype": "text/x-python",
   "name": "python",
   "nbconvert_exporter": "python",
   "pygments_lexer": "ipython3",
   "version": "3.11.7"
  }
 },
 "nbformat": 4,
 "nbformat_minor": 4
}
